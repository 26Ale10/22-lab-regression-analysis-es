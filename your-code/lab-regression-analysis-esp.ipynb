{
 "cells": [
  {
   "cell_type": "markdown",
   "metadata": {},
   "source": [
    "# Laboratorio: Análisis de Regresión\n",
    "\n",
    "### Antes de empezar:\n",
    "\n",
    "- Lee el archivo README.md\n",
    "- Comenta tanto como puedas y utiliza los recursos (archivo README.md)\n",
    "\n",
    "¡Feliz aprendizaje!\n",
    "\n",
    "## Desafío 1\n",
    "\n",
    "Trabajo en un bootcamp de programación, y he desarrollado una teoría de que cuanto más jóvenes son mis estudiantes, más a menudo llegan tarde a clase. Para probar mi hipótesis, he recopilado algunos datos en la siguiente tabla:\n",
    "\n",
    "| StudentID | Edad | Retrasos |\n",
    "| --------- | ---- | -------- |\n",
    "| 1         | 17   | 10       |\n",
    "| 2         | 51   | 1        |\n",
    "| 3         | 27   | 5        |\n",
    "| 4         | 21   | 9        |\n",
    "| 5         | 36   | 4        |\n",
    "| 6         | 48   | 2        |\n",
    "| 7         | 19   | 9        |\n",
    "| 8         | 26   | 6        |\n",
    "| 9         | 54   | 0        |\n",
    "| 10        | 30   | 3        |\n"
   ]
  },
  {
   "cell_type": "code",
   "execution_count": 1,
   "metadata": {},
   "outputs": [
    {
     "name": "stderr",
     "output_type": "stream",
     "text": [
      "C:\\Users\\Aleja\\AppData\\Local\\Temp\\ipykernel_26528\\3260326528.py:1: DeprecationWarning: \n",
      "Pyarrow will become a required dependency of pandas in the next major release of pandas (pandas 3.0),\n",
      "(to allow more performant data types, such as the Arrow string type, and better interoperability with other libraries)\n",
      "but was not found to be installed on your system.\n",
      "If this would cause problems for you,\n",
      "please provide us feedback at https://github.com/pandas-dev/pandas/issues/54466\n",
      "        \n",
      "  import pandas as pd\n"
     ]
    }
   ],
   "source": [
    "import pandas as pd\n",
    "import numpy as np\n",
    "import plotly.express as px\n",
    "import statsmodels.formula.api as smf\n",
    "from sklearn.linear_model import LinearRegression\n",
    "import matplotlib.pyplot as plt\n",
    "import seaborn as sns"
   ]
  },
  {
   "cell_type": "markdown",
   "metadata": {},
   "source": [
    "Utiliza este comando para crear un dataframe con los datos proporcionados en la tabla.\n",
    "\n",
    "```\n",
    "student_data = pd.DataFrame({'Edad': [17,51,27,21,36,48,19,26,54,30], 'Retrasos': [10,1,5,9,4,2,9,6,0,3]})\n",
    "```\n"
   ]
  },
  {
   "cell_type": "code",
   "execution_count": 2,
   "metadata": {},
   "outputs": [
    {
     "data": {
      "text/html": [
       "<div>\n",
       "<style scoped>\n",
       "    .dataframe tbody tr th:only-of-type {\n",
       "        vertical-align: middle;\n",
       "    }\n",
       "\n",
       "    .dataframe tbody tr th {\n",
       "        vertical-align: top;\n",
       "    }\n",
       "\n",
       "    .dataframe thead th {\n",
       "        text-align: right;\n",
       "    }\n",
       "</style>\n",
       "<table border=\"1\" class=\"dataframe\">\n",
       "  <thead>\n",
       "    <tr style=\"text-align: right;\">\n",
       "      <th></th>\n",
       "      <th>StudentId</th>\n",
       "      <th>Edad</th>\n",
       "      <th>Retrasos</th>\n",
       "    </tr>\n",
       "  </thead>\n",
       "  <tbody>\n",
       "    <tr>\n",
       "      <th>0</th>\n",
       "      <td>1</td>\n",
       "      <td>17</td>\n",
       "      <td>10</td>\n",
       "    </tr>\n",
       "    <tr>\n",
       "      <th>1</th>\n",
       "      <td>2</td>\n",
       "      <td>51</td>\n",
       "      <td>1</td>\n",
       "    </tr>\n",
       "    <tr>\n",
       "      <th>2</th>\n",
       "      <td>3</td>\n",
       "      <td>27</td>\n",
       "      <td>5</td>\n",
       "    </tr>\n",
       "    <tr>\n",
       "      <th>3</th>\n",
       "      <td>4</td>\n",
       "      <td>21</td>\n",
       "      <td>9</td>\n",
       "    </tr>\n",
       "    <tr>\n",
       "      <th>4</th>\n",
       "      <td>5</td>\n",
       "      <td>36</td>\n",
       "      <td>4</td>\n",
       "    </tr>\n",
       "    <tr>\n",
       "      <th>5</th>\n",
       "      <td>6</td>\n",
       "      <td>48</td>\n",
       "      <td>2</td>\n",
       "    </tr>\n",
       "    <tr>\n",
       "      <th>6</th>\n",
       "      <td>7</td>\n",
       "      <td>19</td>\n",
       "      <td>9</td>\n",
       "    </tr>\n",
       "    <tr>\n",
       "      <th>7</th>\n",
       "      <td>8</td>\n",
       "      <td>26</td>\n",
       "      <td>6</td>\n",
       "    </tr>\n",
       "    <tr>\n",
       "      <th>8</th>\n",
       "      <td>9</td>\n",
       "      <td>54</td>\n",
       "      <td>0</td>\n",
       "    </tr>\n",
       "    <tr>\n",
       "      <th>9</th>\n",
       "      <td>10</td>\n",
       "      <td>30</td>\n",
       "      <td>3</td>\n",
       "    </tr>\n",
       "  </tbody>\n",
       "</table>\n",
       "</div>"
      ],
      "text/plain": [
       "   StudentId  Edad  Retrasos\n",
       "0          1    17        10\n",
       "1          2    51         1\n",
       "2          3    27         5\n",
       "3          4    21         9\n",
       "4          5    36         4\n",
       "5          6    48         2\n",
       "6          7    19         9\n",
       "7          8    26         6\n",
       "8          9    54         0\n",
       "9         10    30         3"
      ]
     },
     "execution_count": 2,
     "metadata": {},
     "output_type": "execute_result"
    }
   ],
   "source": [
    "# Your code here. \n",
    "s_id = range(1,11)\n",
    "student_data = pd.DataFrame({'StudentId':s_id,'Edad': [17,51,27,21,36,48,19,26,54,30], 'Retrasos': [10,1,5,9,4,2,9,6,0,3]})\n",
    "student_data"
   ]
  },
  {
   "cell_type": "markdown",
   "metadata": {},
   "source": [
    "Dibuja un diagrama de dispersión (scatter plot) para los datos.\n"
   ]
  },
  {
   "cell_type": "code",
   "execution_count": 3,
   "metadata": {},
   "outputs": [
    {
     "data": {
      "text/plain": [
       "<Axes: xlabel='Edad', ylabel='Retrasos'>"
      ]
     },
     "execution_count": 3,
     "metadata": {},
     "output_type": "execute_result"
    },
    {
     "data": {
      "image/png": "[encoded data removed]",
      "text/plain": [
       "<Figure size 640x480 with 1 Axes>"
      ]
     },
     "metadata": {},
     "output_type": "display_data"
    }
   ],
   "source": [
    "# Your code here\n",
    "sns.scatterplot(data=student_data,x='Edad',y='Retrasos')"
   ]
  },
  {
   "cell_type": "markdown",
   "metadata": {},
   "source": [
    "¿Ves alguna tendencia? ¿Puedes hacer alguna hipótesis sobre la relación entre la edad y el número de retrasos?\n"
   ]
  },
  {
   "cell_type": "markdown",
   "metadata": {},
   "source": [
    "_tu explicación aquí_\n",
    "Si, se puede observar que hay cierta tendencia de que mientras mas jovenes son los estudiantes es mas habitual llegar con retraso a clases\n"
   ]
  },
  {
   "cell_type": "markdown",
   "metadata": {},
   "source": [
    "Calcula la covarianza y la correlación de las variables en tu gráfico. ¿Cuál es la diferencia entre estas dos medidas? Compara sus valores. ¿Qué te indican en este caso? Agrega tus respuestas como comentarios después de tu código.\n"
   ]
  },
  {
   "cell_type": "code",
   "execution_count": 5,
   "metadata": {},
   "outputs": [
    {
     "name": "stdout",
     "output_type": "stream",
     "text": [
      "-45.56666666666666\n",
      "-0.9391626886887122\n"
     ]
    }
   ],
   "source": [
    "# your code here\n",
    "covarianza = np.cov(student_data['Edad'],student_data['Retrasos'])[0,1]\n",
    "correlacion = np.corrcoef(student_data['Edad'],student_data['Retrasos'])[0,1]\n",
    "print(covarianza)\n",
    "print(correlacion)"
   ]
  },
  {
   "cell_type": "markdown",
   "metadata": {},
   "source": [
    "Ambos términos miden la relación y la dependencia entre dos variables. Sin embargo, la **_\"Covarianza\"_** indica la dirección de la relación lineal entre variables. La **_\"Correlación\"_**, por otro lado, mide tanto la fuerza como la dirección de la relación lineal entre dos variables. La correlación es una función de la covarianza.\n",
    "\n",
    "VALORES DE CORRELACIÓN ==> estandarizados\n",
    "\n",
    "VALORES DE COVARIANZA ==> NO estandarizados\n",
    "\n",
    "Por lo tanto, a partir de la covarianza podemos obtener la dirección de la relación entre las dos variables en el ejemplo, en este caso negativa (es decir, a medida que una aumenta, la otra disminuye). Por otro lado, a partir de la correlación también podemos obtener la fuerza de la relación entre las dos variables. Este valor oscilará entre -1 y 1.\n",
    "Cuanto más cerca de 1 o -1, mayor correlación. En nuestro caso tenemos una correlación de -0.939 que indica una gran correlación entre estas dos variables.\n"
   ]
  },
  {
   "cell_type": "markdown",
   "metadata": {},
   "source": [
    "Construye un modelo de regresión para estos datos. ¿Cuál será tu variable de resultado? ¿Qué tipo de regresión estás utilizando? Agrega tus respuestas como comentarios después de tu código.\n"
   ]
  },
  {
   "cell_type": "code",
   "execution_count": 6,
   "metadata": {},
   "outputs": [
    {
     "name": "stdout",
     "output_type": "stream",
     "text": [
      "Intercepto (b0): 12.89\n",
      "Pendiente (b1): -0.24\n"
     ]
    }
   ],
   "source": [
    "# your explanation here\n",
    "lr = LinearRegression()\n",
    "\n",
    "Xs = student_data['Edad'].values.reshape(-1,1)\n",
    "ys = student_data['Retrasos']\n",
    "\n",
    "lr.fit(Xs,ys)\n",
    "\n",
    "# Coeficientes del modelo\n",
    "print(f\"Intercepto (b0): {lr.intercept_:.2f}\")\n",
    "print(f\"Pendiente (b1): {lr.coef_[0]:.2f}\")"
   ]
  },
  {
   "cell_type": "markdown",
   "metadata": {},
   "source": [
    "Grafica tu modelo de regresión en tu diagrama de dispersión.\n"
   ]
  },
  {
   "cell_type": "code",
   "execution_count": 7,
   "metadata": {},
   "outputs": [
    {
     "name": "stdout",
     "output_type": "stream",
     "text": [
      "[ 8.76085026  0.50494405  6.33264255  7.78956717  4.14725561  1.23340636\n",
      "  8.27520872  6.57546332 -0.22351827  5.60418024]\n"
     ]
    },
    {
     "ename": "NameError",
     "evalue": "name 'Xs2' is not defined",
     "output_type": "error",
     "traceback": [
      "\u001b[1;31m---------------------------------------------------------------------------\u001b[0m",
      "\u001b[1;31mNameError\u001b[0m                                 Traceback (most recent call last)",
      "Cell \u001b[1;32mIn[7], line 15\u001b[0m\n\u001b[0;32m     12\u001b[0m axes[\u001b[38;5;241m0\u001b[39m]\u001b[38;5;241m.\u001b[39mlegend()\n\u001b[0;32m     14\u001b[0m \u001b[38;5;66;03m# Your code here.\u001b[39;00m\n\u001b[1;32m---> 15\u001b[0m y_pred2 \u001b[38;5;241m=\u001b[39m lr\u001b[38;5;241m.\u001b[39mpredict(\u001b[43mXs2\u001b[49m)\n\u001b[0;32m     16\u001b[0m \u001b[38;5;28mprint\u001b[39m(y_pred2)\n\u001b[0;32m     18\u001b[0m axes[\u001b[38;5;241m1\u001b[39m]\u001b[38;5;241m.\u001b[39mscatter(Xs2,ys2,color\u001b[38;5;241m=\u001b[39m\u001b[38;5;124m'\u001b[39m\u001b[38;5;124mblue\u001b[39m\u001b[38;5;124m'\u001b[39m, label\u001b[38;5;241m=\u001b[39m\u001b[38;5;124m'\u001b[39m\u001b[38;5;124mDatos originales\u001b[39m\u001b[38;5;124m'\u001b[39m)\n",
      "\u001b[1;31mNameError\u001b[0m: name 'Xs2' is not defined"
     ]
    },
    {
     "data": {
      "image/png": "[encoded data removed]",
      "text/plain": [
       "<Figure size 1400x600 with 2 Axes>"
      ]
     },
     "metadata": {},
     "output_type": "display_data"
    }
   ],
   "source": [
    "# Your code here.\n",
    "y_pred = lr.predict(Xs)\n",
    "print(y_pred)\n",
    "\n",
    "fig, axes = plt.subplots(nrows=1,ncols=2,figsize=(14,6))\n",
    "\n",
    "axes[0].scatter(Xs,ys, color='blue', label='Datos originales')\n",
    "axes[0].plot(Xs,y_pred, color='red', linewidth=1, label='Línea de regresión')\n",
    "axes[0].set_xlabel('Edad')\n",
    "axes[0].set_ylabel('Retrasos')\n",
    "axes[0].set_title('Regresión lineal: Edad vs. Retrasos')\n",
    "axes[0].legend()\n",
    "\n",
    "# Your code here.\n",
    "y_pred2 = lr.predict(Xs2)\n",
    "print(y_pred2)\n",
    "\n",
    "axes[1].scatter(Xs2,ys2,color='blue', label='Datos originales')\n",
    "axes[1].plot(Xs2 ,y_pred2,color='red', linewidth=1, label='Línea de regresión')\n",
    "axes[1].set_xlabel('Retrasos')\n",
    "axes[1].set_ylabel('Edad')\n",
    "axes[1].set_title('Regresión lineal: Retrasos vs. Edad')\n",
    "axes[1].legend()\n",
    "\n",
    "plt.show()"
   ]
  },
  {
   "cell_type": "markdown",
   "metadata": {},
   "source": [
    "Interpreta los resultados de tu modelo. ¿Qué conclusiones puedes sacar de tu modelo y qué tan confiado estás en estas conclusiones? ¿Podemos decir que la edad es un buen predictor de la tardanza? Agrega tus respuestas como comentarios después de tu código.\n"
   ]
  },
  {
   "cell_type": "code",
   "execution_count": 8,
   "metadata": {},
   "outputs": [
    {
     "name": "stdout",
     "output_type": "stream",
     "text": [
      "                            OLS Regression Results                            \n",
      "==============================================================================\n",
      "Dep. Variable:               Retrasos   R-squared:                       0.882\n",
      "Model:                            OLS   Adj. R-squared:                  0.867\n",
      "Method:                 Least Squares   F-statistic:                     59.81\n",
      "Date:                Mon, 15 Jul 2024   Prob (F-statistic):           5.57e-05\n",
      "Time:                        19:01:40   Log-Likelihood:                -15.622\n",
      "No. Observations:                  10   AIC:                             35.24\n",
      "Df Residuals:                       8   BIC:                             35.85\n",
      "Df Model:                           1                                         \n",
      "Covariance Type:            nonrobust                                         \n",
      "==============================================================================\n",
      "                 coef    std err          t      P>|t|      [0.025      0.975]\n",
      "------------------------------------------------------------------------------\n",
      "Intercept     12.8888      1.111     11.605      0.000      10.328      15.450\n",
      "Edad          -0.2428      0.031     -7.734      0.000      -0.315      -0.170\n",
      "==============================================================================\n",
      "Omnibus:                        3.949   Durbin-Watson:                   1.754\n",
      "Prob(Omnibus):                  0.139   Jarque-Bera (JB):                1.714\n",
      "Skew:                          -1.014   Prob(JB):                        0.424\n",
      "Kurtosis:                       3.069   Cond. No.                         96.4\n",
      "==============================================================================\n",
      "\n",
      "Notes:\n",
      "[1] Standard Errors assume that the covariance matrix of the errors is correctly specified.\n"
     ]
    },
    {
     "name": "stderr",
     "output_type": "stream",
     "text": [
      "c:\\Users\\Aleja\\AppData\\Local\\Programs\\Python\\Python312\\Lib\\site-packages\\scipy\\stats\\_axis_nan_policy.py:531: UserWarning: kurtosistest only valid for n>=20 ... continuing anyway, n=10\n",
      "  res = hypotest_fun_out(*samples, **kwds)\n"
     ]
    }
   ],
   "source": [
    "#Summary of our results:\n",
    "resultados = smf.ols('Retrasos ~ Edad', data=student_data).fit() # Retrasos es la variable dependiente, Edad es la independiente\n",
    "print(resultados.summary())"
   ]
  },
  {
   "cell_type": "code",
   "execution_count": 9,
   "metadata": {},
   "outputs": [
    {
     "name": "stdout",
     "output_type": "stream",
     "text": [
      "                            OLS Regression Results                            \n",
      "==============================================================================\n",
      "Dep. Variable:                   Edad   R-squared:                       0.882\n",
      "Model:                            OLS   Adj. R-squared:                  0.867\n",
      "Method:                 Least Squares   F-statistic:                     59.81\n",
      "Date:                Mon, 15 Jul 2024   Prob (F-statistic):           5.57e-05\n",
      "Time:                        19:01:44   Log-Likelihood:                -29.149\n",
      "No. Observations:                  10   AIC:                             62.30\n",
      "Df Residuals:                       8   BIC:                             62.90\n",
      "Df Model:                           1                                         \n",
      "Covariance Type:            nonrobust                                         \n",
      "==============================================================================\n",
      "                 coef    std err          t      P>|t|      [0.025      0.975]\n",
      "------------------------------------------------------------------------------\n",
      "Intercept     50.6988      2.791     18.168      0.000      44.264      57.134\n",
      "Retrasos      -3.6324      0.470     -7.734      0.000      -4.716      -2.549\n",
      "==============================================================================\n",
      "Omnibus:                        3.472   Durbin-Watson:                   2.182\n",
      "Prob(Omnibus):                  0.176   Jarque-Bera (JB):                1.714\n",
      "Skew:                          -1.010   Prob(JB):                        0.424\n",
      "Kurtosis:                       2.812   Cond. No.                         10.7\n",
      "==============================================================================\n",
      "\n",
      "Notes:\n",
      "[1] Standard Errors assume that the covariance matrix of the errors is correctly specified.\n"
     ]
    },
    {
     "name": "stderr",
     "output_type": "stream",
     "text": [
      "c:\\Users\\Aleja\\AppData\\Local\\Programs\\Python\\Python312\\Lib\\site-packages\\scipy\\stats\\_axis_nan_policy.py:531: UserWarning: kurtosistest only valid for n>=20 ... continuing anyway, n=10\n",
      "  res = hypotest_fun_out(*samples, **kwds)\n"
     ]
    }
   ],
   "source": [
    "#Summary of our results:\n",
    "resultados2 = smf.ols('Edad ~ Retrasos', data=student_data).fit() # Edad es la variable dependiente, Retrasos es la independiente\n",
    "print(resultados2.summary())"
   ]
  },
  {
   "cell_type": "markdown",
   "metadata": {},
   "source": [
    "_tu explicación aquí_\n",
    "\n",
    "* El valor de R-cuadrado es de 0.882, lo que indica que el modelo explica el 88.2% de la varianza en los datos.\n",
    "* El valor de p es de 0.00, lo que indica que el modelo es estadísticamente significativo.\n",
    "* El intercepto es de 12.8888, lo que significa que el número promedio de retrasos esperado para un estudiante de 0 años de edad es de 12.8888.\n",
    "* El coeficiente para la edad es de -0.2428, lo que significa que por cada año adicional de edad, el número de retrasos esperados disminuye en 0.2428.\n",
    "\n",
    "\n",
    "**En resumen**, los resultados del modelo sugieren que la edad es un predictor significativo de los retrasos en este conjunto de datos. Cuanto mayor es la edad del estudiante, menor es el número esperado de retrasos.\n"
   ]
  },
  {
   "cell_type": "markdown",
   "metadata": {},
   "source": [
    "## Desafío 2\n",
    "\n",
    "Para la segunda parte de este laboratorio, utilizaremos el conjunto de datos vehicles.csv. Puedes encontrar una copia del conjunto de datos en la carpeta de GitHub. Este conjunto de datos incluye variables relacionadas con las características de los vehículos, incluyendo el modelo, la marca y los estándares de eficiencia energética, así como las emisiones de CO2 de cada coche. Como se discutió en clase, el objetivo de este ejercicio es predecir las emisiones de CO2 de los vehículos basándose en varias variables independientes.\n"
   ]
  },
  {
   "cell_type": "code",
   "execution_count": 12,
   "metadata": {},
   "outputs": [
    {
     "name": "stdout",
     "output_type": "stream",
     "text": [
      "<class 'pandas.core.frame.DataFrame'>\n",
      "RangeIndex: 35952 entries, 0 to 35951\n",
      "Data columns (total 15 columns):\n",
      " #   Column                   Non-Null Count  Dtype  \n",
      "---  ------                   --------------  -----  \n",
      " 0   Make                     35952 non-null  object \n",
      " 1   Model                    35952 non-null  object \n",
      " 2   Year                     35952 non-null  int64  \n",
      " 3   Engine Displacement      35952 non-null  float64\n",
      " 4   Cylinders                35952 non-null  float64\n",
      " 5   Transmission             35952 non-null  object \n",
      " 6   Drivetrain               35952 non-null  object \n",
      " 7   Vehicle Class            35952 non-null  object \n",
      " 8   Fuel Type                35952 non-null  object \n",
      " 9   Fuel Barrels/Year        35952 non-null  float64\n",
      " 10  City MPG                 35952 non-null  int64  \n",
      " 11  Highway MPG              35952 non-null  int64  \n",
      " 12  Combined MPG             35952 non-null  int64  \n",
      " 13  CO2 Emission Grams/Mile  35952 non-null  float64\n",
      " 14  Fuel Cost/Year           35952 non-null  int64  \n",
      "dtypes: float64(4), int64(5), object(6)\n",
      "memory usage: 4.1+ MB\n",
      "None\n"
     ]
    }
   ],
   "source": [
    "# Import any libraries you may need & the data\n",
    "vehicles = pd.read_csv(\"../vehicles.csv\")\n",
    "print(vehicles.info())\n",
    "vehicles.head(10)\n",
    "seed = 1 # para mantener la salida de este notebook estable en diferentes ejecuciones"
   ]
  },
  {
   "cell_type": "markdown",
   "metadata": {},
   "source": [
    "Vamos a utilizar las siguientes variables para nuestro análisis: Año, Cilindros, Barriles de Combustible/Año, MPG Combinado, y Costo de Combustible/Año. Utilizaremos 'Emisiones de CO2 Gramos/Milla' como nuestra variable de resultado.\n",
    "\n",
    "Calcula las correlaciones entre cada una de estas variables y el resultado. ¿Cuál variable crees que será la más importante para determinar las emisiones de CO2? ¿Cuál proporciona la menor cantidad de información útil para determinar las emisiones de CO2? Agrega tus respuestas como comentarios después de tu código.\n"
   ]
  },
  {
   "cell_type": "code",
   "execution_count": 13,
   "metadata": {},
   "outputs": [
    {
     "name": "stdout",
     "output_type": "stream",
     "text": [
      "                           Year  Cylinders  Fuel Barrels/Year  Combined MPG  \\\n",
      "CO2 Emission Grams/Mile -0.2223   0.752393           0.986189     -0.926229   \n",
      "\n",
      "                         Fuel Cost/Year  \n",
      "CO2 Emission Grams/Mile        0.930865  \n",
      "Year                      -0.222300\n",
      "Cylinders                  0.752393\n",
      "Fuel Barrels/Year          0.986189\n",
      "Combined MPG              -0.926229\n",
      "CO2 Emission Grams/Mile    1.000000\n",
      "Fuel Cost/Year             0.930865\n",
      "Name: CO2 Emission Grams/Mile, dtype: float64\n"
     ]
    }
   ],
   "source": [
    "# Your code here.\n",
    "vehicles_no_object = vehicles[['Year','Cylinders','Fuel Barrels/Year','Combined MPG','CO2 Emission Grams/Mile','Fuel Cost/Year']]\n",
    "\n",
    "# 1ra forma de Vizualizar la correlación de una columna\n",
    "correlation_co2_1= vehicles_no_object.corr().loc[['CO2 Emission Grams/Mile'], ['Year', 'Cylinders', 'Fuel Barrels/Year', 'Combined MPG', 'Fuel Cost/Year']]\n",
    "\n",
    "print(correlation_co2_1)\n",
    "\n",
    "#  2d forma de Vizualizar la correlación de una columna\n",
    "correlation_co2_2= vehicles_no_object.corr()['CO2 Emission Grams/Mile']\n",
    "print(correlation_co2_2)\n"
   ]
  },
  {
   "cell_type": "markdown",
   "metadata": {},
   "source": [
    "Construye un modelo de regresión para estos datos. ¿Qué tipo de regresión estás utilizando? Agrega tus respuestas como comentarios después de tu código.\n"
   ]
  },
  {
   "cell_type": "code",
   "execution_count": 60,
   "metadata": {},
   "outputs": [
    {
     "name": "stdout",
     "output_type": "stream",
     "text": [
      "Tamaños de entrenamiento y prueba de X: (28761, 5) (7191, 5)\n",
      "Tamaños de entrenamiento y prueba de y: (28761,) (7191,)\n"
     ]
    }
   ],
   "source": [
    "# Your code here. opcion A Regresion lineal\n",
    "\n",
    "from sklearn.model_selection import train_test_split\n",
    "from sklearn import linear_model\n",
    "from sklearn.linear_model import LinearRegression\n",
    "from sklearn.metrics import mean_squared_error, r2_score\n",
    "from sklearn import linear_model\n",
    "\n",
    "X = vehicles_no_object.drop('CO2 Emission Grams/Mile',axis=1)\n",
    "y = vehicles_no_object['CO2 Emission Grams/Mile']\n",
    "\n",
    "X_train, X_test, y_train, y_test = train_test_split(X, y, test_size=0.2, random_state=seed)\n",
    "\n",
    "features = [['Year','Cylinders','Fuel Barrels/Year','Combined MPG','Fuel Cost/Year']]\n",
    "target = ['CO2 Emission Grams/Mile']\n",
    "\n",
    "print('Tamaños de entrenamiento y prueba de X: {} {}'.format(X_train.shape, X_test.shape))\n",
    "print('Tamaños de entrenamiento y prueba de y: {} {}'.format(y_train.shape, y_test.shape))"
   ]
  },
  {
   "cell_type": "code",
   "execution_count": 61,
   "metadata": {},
   "outputs": [
    {
     "name": "stdout",
     "output_type": "stream",
     "text": [
      "\n",
      "Intercepto y coeficientes:\n",
      "12.888803363135771 [-0.24282077]\n",
      "\n",
      "Error Cuadrático Medio (ECM): 234.5451751831985\n",
      "Puntaje R^2 (entrenamiento): 0.9802394415868356\n",
      "Puntaje R^2 (prueba): 0.9833841512667476\n",
      "Combined MPG         -3.091358\n",
      "Year                 -0.325834\n",
      "Fuel Cost/Year        0.033677\n",
      "Cylinders             1.868818\n",
      "Fuel Barrels/Year    18.840868\n",
      "dtype: float64\n"
     ]
    }
   ],
   "source": [
    "# Ajustando un modelo de regresión lineal múltiple\n",
    "lin_reg = LinearRegression()  # Crear el estimador de Regresión Lineal\n",
    "lin_reg.fit(X_train, y_train)  # Realizar el ajuste\n",
    "\n",
    "# Coeficientes de la regresión\n",
    "coefs = pd.Series(lin_reg.coef_, index=X_train.columns).sort_values()\n",
    "\n",
    "# Predicción\n",
    "y_pred = lin_reg.predict(X_test)\n",
    "\n",
    "# Evaluación\n",
    "mse = mean_squared_error(y_test, y_pred)\n",
    "r2score_train = lin_reg.score(X_train, y_train)\n",
    "r2score_test = lin_reg.score(X_test, y_test)\n",
    "\n",
    "# Los coeficientes\n",
    "# Intercepto y coeficientes\n",
    "print('\\nIntercepto y coeficientes:\\n{} {}'.format(lr.intercept_, lr.coef_))\n",
    "# Error cuadrático medio\n",
    "print('\\nError Cuadrático Medio (ECM): {}'.format(mse))\n",
    "# Coeficiente de determinación: 1 es una predicción perfecta\n",
    "print('Puntaje R^2 (entrenamiento): {}'.format(r2score_train))\n",
    "print('Puntaje R^2 (prueba): {}'.format(r2score_test))\n",
    "\n",
    "print(coefs)"
   ]
  },
  {
   "cell_type": "code",
   "execution_count": 62,
   "metadata": {},
   "outputs": [
    {
     "name": "stdout",
     "output_type": "stream",
     "text": [
      "\n",
      "Característica: Year\n",
      "Máximo: 2017, Mínimo: 1984\n",
      "Media: 2000.6824867007406, Varianza: 101.65384104837145\n",
      "\n",
      "Característica: Cylinders\n",
      "Máximo: 16.0, Mínimo: 2.0\n",
      "Media: 5.761134870136643, Varianza: 3.0707578775326403\n",
      "\n",
      "Característica: Fuel Barrels/Year\n",
      "Máximo: 47.08714285714285, Mínimo: 0.06\n",
      "Media: 17.597822397260288, Varianza: 19.981776482589254\n",
      "\n",
      "Característica: Combined MPG\n",
      "Máximo: 56, Mínimo: 7\n",
      "Media: 19.94416049511491, Varianza: 26.230539699414273\n",
      "\n",
      "Característica: Fuel Cost/Year\n",
      "Máximo: 5800, Mínimo: 600\n",
      "Media: 1891.3041966551928, Varianza: 257332.76006896605\n"
     ]
    }
   ],
   "source": [
    "for i,feat in enumerate(X_train.columns):\n",
    "    print(f\"\\nCaracterística: {feat}\")\n",
    "    print(f\"Máximo: {X_train[feat].max()}, Mínimo: {X_train[feat].min()}\")\n",
    "    print(f\"Media: {X_train[feat].mean()}, Varianza: {X_train[feat].var()}\")"
   ]
  },
  {
   "cell_type": "code",
   "execution_count": 63,
   "metadata": {},
   "outputs": [
    {
     "name": "stdout",
     "output_type": "stream",
     "text": [
      "\n",
      "Year\n",
      "\n",
      "Antes de la transformación:\n",
      "Entrenamiento: Máximo: 2017, Mínimo: 1984, Media: 2000.6824867007406, Varianza: 101.65384104837145\n",
      "Prueba: Máximo: 2017, Mínimo: 1984, Media: 2000.8520372688083, Varianza: 101.94110815772072\n",
      "\n",
      "Después de la transformación:\n",
      "Entrenamiento: Máximo 1.6184512740897896, mínimo -1.6546511322301158, media 3.458710858677168e-16 y varianza 1.0\n",
      "Prueba: Máximo 1.6184512740897896, mínimo -1.6546511322301158, media 0.01681685976773125 y varianza 1.002721342852062\n",
      "\n",
      "Cylinders\n",
      "\n",
      "Antes de la transformación:\n",
      "Entrenamiento: Máximo: 16.0, Mínimo: 2.0, Media: 5.761134870136643, Varianza: 3.0707578775326403\n",
      "Prueba: Máximo: 16.0, Mínimo: 2.0, Media: 5.780837157558059, Varianza: 3.1219192434369263\n",
      "\n",
      "Después de la transformación:\n",
      "Entrenamiento: Máximo 5.843009403154796, mínimo -2.1463654549608355, media 2.327218306338494e-16 y varianza 1.0000000000000004\n",
      "Prueba: Máximo 5.843009403154796, mínimo -2.1463654549608355, media 0.011243497126573332 y varianza 1.0165547923352656\n",
      "\n",
      "Fuel Barrels/Year\n",
      "\n",
      "Antes de la transformación:\n",
      "Entrenamiento: Máximo: 47.08714285714285, Mínimo: 0.06, Media: 17.597822397260288, Varianza: 19.981776482589254\n",
      "Prueba: Máximo: 47.08714285714285, Mínimo: 0.0664285714285714, Media: 17.653983236281185, Varianza: 19.856219142958246\n",
      "\n",
      "Después de la transformación:\n",
      "Entrenamiento: Máximo 6.5971334128190735, mínimo -3.923432358587259, media -6.793896329544437e-16 y varianza 1.0000000000000002\n",
      "Prueba: Máximo 6.5971334128190735, mínimo -3.9219942059711004, media 0.012563888954333373 y varianza 0.9936127658827538\n",
      "\n",
      "Combined MPG\n",
      "\n",
      "Antes de la transformación:\n",
      "Entrenamiento: Máximo: 56, Mínimo: 7, Media: 19.94416049511491, Varianza: 26.230539699414273\n",
      "Prueba: Máximo: 50, Mínimo: 7, Media: 19.86997635933806, Varianza: 25.760699290122545\n",
      "\n",
      "Después de la transformación:\n",
      "Entrenamiento: Máximo 7.0401116850607055, mínimo -2.527422376134467, media 3.0930757107598674e-16 y varianza 1.0\n",
      "Prueba: Máximo 5.868576902057216, mínimo -2.527422376134467, media -0.014484882568272147 y varianza 0.9819856099287914\n",
      "\n",
      "Fuel Cost/Year\n",
      "\n",
      "Antes de la transformación:\n",
      "Entrenamiento: Máximo: 5800, Mínimo: 600, Media: 1891.3041966551928, Varianza: 257332.76006896605\n",
      "Prueba: Máximo: 5800, Mínimo: 650, Media: 1897.774996523432, Varianza: 255706.453399774\n",
      "\n",
      "Después de la transformación:\n",
      "Entrenamiento: Máximo 7.7053413627664975, mínimo -2.545590687790723, media 8.103265440329365e-17 y varianza 1.0\n",
      "Prueba: Máximo 7.7053413627664975, mínimo -2.4470240334584417, media 0.012756101877322273 y varianza 0.9935765034563536\n"
     ]
    }
   ],
   "source": [
    "# División en entrenamiento y prueba\n",
    "from sklearn.preprocessing import StandardScaler\n",
    "\n",
    "# Ajustar el StandardScaler y transformar los datos de entrenamiento\n",
    "scalerX = StandardScaler().fit(X_train)\n",
    "X_train_norm = scalerX.transform(X_train)\n",
    "X_test_norm = scalerX.transform(X_test)\n",
    "\n",
    "for i, feat in enumerate(X_train.columns):\n",
    "    print()\n",
    "    print(feat)\n",
    "    print(\"\\nAntes de la transformación:\")\n",
    "    print(f'Entrenamiento: Máximo: {X_train[feat].max()}, Mínimo: {X_train[feat].min()}, Media: {X_train[feat].mean()}, Varianza: {X_train[feat].var()}')\n",
    "    print(f'Prueba: Máximo: {X_test[feat].max()}, Mínimo: {X_test[feat].min()}, Media: {X_test[feat].mean()}, Varianza: {X_test[feat].var()}')\n",
    "\n",
    "    print(\"\\nDespués de la transformación:\")\n",
    "    print('Entrenamiento: Máximo {}, mínimo {}, media {} y varianza {}'.format(np.max(X_train_norm[:, i]), np.min(X_train_norm[:, i]), np.mean(X_train_norm[:, i]), np.var(X_train_norm[:, i])))\n",
    "    print('Prueba: Máximo {}, mínimo {}, media {} y varianza {}'.format(np.max(X_test_norm[:, i]), np.min(X_test_norm[:, i]), np.mean(X_test_norm[:, i]), np.var(X_test_norm[:, i])))"
   ]
  },
  {
   "cell_type": "code",
   "execution_count": 69,
   "metadata": {},
   "outputs": [
    {
     "name": "stdout",
     "output_type": "stream",
     "text": [
      "lin_reg: 0.9833841512667476\n",
      "lr_norm: 0.9833841512667475\n"
     ]
    }
   ],
   "source": [
    "# Your code here.\n",
    "\n",
    "# Entrenar modelos\n",
    "lr_norm = LinearRegression()\n",
    "# ridge_norm = linear_model.Ridge(alpha=.3)\n",
    "# lasso_norm = linear_model.Lasso(alpha=.3)\n",
    "\n",
    "lr_norm.fit(X_train_norm, y_train)\n",
    "# ridge_norm.fit(X_train_norm, y_train)\n",
    "# lasso_norm.fit(X_train_norm, y_train)\n",
    "\n",
    "# Coeficientes de regresión\n",
    "coefs_lr_norm = pd.Series(np.abs(lr_norm.coef_), X_train.columns).sort_values()\n",
    "# coefs_ridge_norm = pd.Series(np.abs(ridge_norm.coef_), boston.feature_names).sort_values()\n",
    "# coefs_lasso_norm = pd.Series(np.abs(lasso_norm.coef_), boston.feature_names).sort_values()\n",
    "\n",
    "# Scores\n",
    "print('lin_reg: {}'.format(lin_reg.score(X_test, y_test)))\n",
    "# print('ridge: {}'.format(ridge.score(X_test, y_test)))\n",
    "# print('lasso: {}'.format(lasso.score(X_test, y_test)))\n",
    "print('lr_norm: {}'.format(lr_norm.score(X_test_norm, y_test)))"
   ]
  },
  {
   "cell_type": "code",
   "execution_count": 117,
   "metadata": {},
   "outputs": [
    {
     "data": {
      "text/html": [
       "<div>\n",
       "<style scoped>\n",
       "    .dataframe tbody tr th:only-of-type {\n",
       "        vertical-align: middle;\n",
       "    }\n",
       "\n",
       "    .dataframe tbody tr th {\n",
       "        vertical-align: top;\n",
       "    }\n",
       "\n",
       "    .dataframe thead th {\n",
       "        text-align: right;\n",
       "    }\n",
       "</style>\n",
       "<table border=\"1\" class=\"dataframe\">\n",
       "  <thead>\n",
       "    <tr style=\"text-align: right;\">\n",
       "      <th></th>\n",
       "      <th>Year</th>\n",
       "      <th>Cylinders</th>\n",
       "      <th>Fuel_Barrels_Year</th>\n",
       "      <th>Combined_MPG</th>\n",
       "      <th>CO2_Emissions_Grams_Mile</th>\n",
       "      <th>Fuel_Cost_Year</th>\n",
       "    </tr>\n",
       "  </thead>\n",
       "  <tbody>\n",
       "    <tr>\n",
       "      <th>0</th>\n",
       "      <td>1984</td>\n",
       "      <td>4.0</td>\n",
       "      <td>19.388824</td>\n",
       "      <td>17</td>\n",
       "      <td>522.764706</td>\n",
       "      <td>1950</td>\n",
       "    </tr>\n",
       "    <tr>\n",
       "      <th>1</th>\n",
       "      <td>1984</td>\n",
       "      <td>6.0</td>\n",
       "      <td>25.354615</td>\n",
       "      <td>13</td>\n",
       "      <td>683.615385</td>\n",
       "      <td>2550</td>\n",
       "    </tr>\n",
       "    <tr>\n",
       "      <th>2</th>\n",
       "      <td>1985</td>\n",
       "      <td>4.0</td>\n",
       "      <td>20.600625</td>\n",
       "      <td>16</td>\n",
       "      <td>555.437500</td>\n",
       "      <td>2100</td>\n",
       "    </tr>\n",
       "    <tr>\n",
       "      <th>3</th>\n",
       "      <td>1985</td>\n",
       "      <td>6.0</td>\n",
       "      <td>25.354615</td>\n",
       "      <td>13</td>\n",
       "      <td>683.615385</td>\n",
       "      <td>2550</td>\n",
       "    </tr>\n",
       "    <tr>\n",
       "      <th>4</th>\n",
       "      <td>1987</td>\n",
       "      <td>6.0</td>\n",
       "      <td>20.600625</td>\n",
       "      <td>16</td>\n",
       "      <td>555.437500</td>\n",
       "      <td>2550</td>\n",
       "    </tr>\n",
       "    <tr>\n",
       "      <th>...</th>\n",
       "      <td>...</td>\n",
       "      <td>...</td>\n",
       "      <td>...</td>\n",
       "      <td>...</td>\n",
       "      <td>...</td>\n",
       "      <td>...</td>\n",
       "    </tr>\n",
       "    <tr>\n",
       "      <th>35947</th>\n",
       "      <td>2013</td>\n",
       "      <td>3.0</td>\n",
       "      <td>9.155833</td>\n",
       "      <td>36</td>\n",
       "      <td>244.000000</td>\n",
       "      <td>1100</td>\n",
       "    </tr>\n",
       "    <tr>\n",
       "      <th>35948</th>\n",
       "      <td>2014</td>\n",
       "      <td>3.0</td>\n",
       "      <td>9.155833</td>\n",
       "      <td>36</td>\n",
       "      <td>243.000000</td>\n",
       "      <td>1100</td>\n",
       "    </tr>\n",
       "    <tr>\n",
       "      <th>35949</th>\n",
       "      <td>2015</td>\n",
       "      <td>3.0</td>\n",
       "      <td>9.155833</td>\n",
       "      <td>36</td>\n",
       "      <td>244.000000</td>\n",
       "      <td>1100</td>\n",
       "    </tr>\n",
       "    <tr>\n",
       "      <th>35950</th>\n",
       "      <td>2016</td>\n",
       "      <td>3.0</td>\n",
       "      <td>9.155833</td>\n",
       "      <td>36</td>\n",
       "      <td>246.000000</td>\n",
       "      <td>1100</td>\n",
       "    </tr>\n",
       "    <tr>\n",
       "      <th>35951</th>\n",
       "      <td>2016</td>\n",
       "      <td>3.0</td>\n",
       "      <td>9.417429</td>\n",
       "      <td>35</td>\n",
       "      <td>255.000000</td>\n",
       "      <td>1150</td>\n",
       "    </tr>\n",
       "  </tbody>\n",
       "</table>\n",
       "<p>35952 rows × 6 columns</p>\n",
       "</div>"
      ],
      "text/plain": [
       "       Year  Cylinders  Fuel_Barrels_Year  Combined_MPG  \\\n",
       "0      1984        4.0          19.388824            17   \n",
       "1      1984        6.0          25.354615            13   \n",
       "2      1985        4.0          20.600625            16   \n",
       "3      1985        6.0          25.354615            13   \n",
       "4      1987        6.0          20.600625            16   \n",
       "...     ...        ...                ...           ...   \n",
       "35947  2013        3.0           9.155833            36   \n",
       "35948  2014        3.0           9.155833            36   \n",
       "35949  2015        3.0           9.155833            36   \n",
       "35950  2016        3.0           9.155833            36   \n",
       "35951  2016        3.0           9.417429            35   \n",
       "\n",
       "       CO2_Emissions_Grams_Mile  Fuel_Cost_Year  \n",
       "0                    522.764706            1950  \n",
       "1                    683.615385            2550  \n",
       "2                    555.437500            2100  \n",
       "3                    683.615385            2550  \n",
       "4                    555.437500            2550  \n",
       "...                         ...             ...  \n",
       "35947                244.000000            1100  \n",
       "35948                243.000000            1100  \n",
       "35949                244.000000            1100  \n",
       "35950                246.000000            1100  \n",
       "35951                255.000000            1150  \n",
       "\n",
       "[35952 rows x 6 columns]"
      ]
     },
     "execution_count": 117,
     "metadata": {},
     "output_type": "execute_result"
    }
   ],
   "source": [
    "#Summary of our results:\n",
    "import statsmodels.formula.api as smf\n",
    "\n",
    "vehicles_no_object2 = vehicles_no_object.copy()\n",
    "\n",
    "vehicles_no_object2.rename(columns={'CO2 Emission Grams/Mile': 'CO2_Emissions_Grams_Mile','Combined MPG':'Combined_MPG','Fuel Barrels/Year':'Fuel_Barrels_Year','Fuel Cost/Year':'Fuel_Cost_Year'}, inplace=True)\n",
    "vehicles_no_object2\n"
   ]
  },
  {
   "cell_type": "code",
   "execution_count": 118,
   "metadata": {},
   "outputs": [
    {
     "name": "stdout",
     "output_type": "stream",
     "text": [
      "\n",
      "\n",
      "Regression results for Year:\n",
      "                               OLS Regression Results                               \n",
      "====================================================================================\n",
      "Dep. Variable:     CO2_Emissions_Grams_Mile   R-squared:                       0.049\n",
      "Model:                                  OLS   Adj. R-squared:                  0.049\n",
      "Method:                       Least Squares   F-statistic:                     1869.\n",
      "Date:                      Sat, 13 Jul 2024   Prob (F-statistic):               0.00\n",
      "Time:                              13:52:42   Log-Likelihood:            -2.2194e+05\n",
      "No. Observations:                     35952   AIC:                         4.439e+05\n",
      "Df Residuals:                         35950   BIC:                         4.439e+05\n",
      "Df Model:                                 1                                         \n",
      "Covariance Type:                  nonrobust                                         \n",
      "==============================================================================\n",
      "                 coef    std err          t      P>|t|      [0.025      0.975]\n",
      "------------------------------------------------------------------------------\n",
      "Intercept   5725.8633    121.455     47.144      0.000    5487.807    5963.920\n",
      "Year          -2.6243      0.061    -43.231      0.000      -2.743      -2.505\n",
      "==============================================================================\n",
      "Omnibus:                     3079.952   Durbin-Watson:                   0.230\n",
      "Prob(Omnibus):                  0.000   Jarque-Bera (JB):             4482.385\n",
      "Skew:                           0.686   Prob(JB):                         0.00\n",
      "Kurtosis:                       4.053   Cond. No.                     3.97e+05\n",
      "==============================================================================\n",
      "\n",
      "Notes:\n",
      "[1] Standard Errors assume that the covariance matrix of the errors is correctly specified.\n",
      "[2] The condition number is large, 3.97e+05. This might indicate that there are\n",
      "strong multicollinearity or other numerical problems.\n",
      "\n",
      "\n",
      "Regression results for Cylinders:\n",
      "                               OLS Regression Results                               \n",
      "====================================================================================\n",
      "Dep. Variable:     CO2_Emissions_Grams_Mile   R-squared:                       0.566\n",
      "Model:                                  OLS   Adj. R-squared:                  0.566\n",
      "Method:                       Least Squares   F-statistic:                 4.690e+04\n",
      "Date:                      Sat, 13 Jul 2024   Prob (F-statistic):               0.00\n",
      "Time:                              13:52:42   Log-Likelihood:            -2.0784e+05\n",
      "No. Observations:                     35952   AIC:                         4.157e+05\n",
      "Df Residuals:                         35950   BIC:                         4.157e+05\n",
      "Df Model:                                 1                                         \n",
      "Covariance Type:                  nonrobust                                         \n",
      "==============================================================================\n",
      "                 coef    std err          t      P>|t|      [0.025      0.975]\n",
      "------------------------------------------------------------------------------\n",
      "Intercept    181.0946      1.420    127.520      0.000     178.311     183.878\n",
      "Cylinders     51.0352      0.236    216.569      0.000      50.573      51.497\n",
      "==============================================================================\n",
      "Omnibus:                     4434.518   Durbin-Watson:                   0.435\n",
      "Prob(Omnibus):                  0.000   Jarque-Bera (JB):            11452.248\n",
      "Skew:                           0.702   Prob(JB):                         0.00\n",
      "Kurtosis:                       5.382   Cond. No.                         21.2\n",
      "==============================================================================\n",
      "\n",
      "Notes:\n",
      "[1] Standard Errors assume that the covariance matrix of the errors is correctly specified.\n",
      "\n",
      "\n",
      "Regression results for Fuel_Barrels_Year:\n",
      "                               OLS Regression Results                               \n",
      "====================================================================================\n",
      "Dep. Variable:     CO2_Emissions_Grams_Mile   R-squared:                       0.973\n",
      "Model:                                  OLS   Adj. R-squared:                  0.973\n",
      "Method:                       Least Squares   F-statistic:                 1.275e+06\n",
      "Date:                      Sat, 13 Jul 2024   Prob (F-statistic):               0.00\n",
      "Time:                              13:52:42   Log-Likelihood:            -1.5821e+05\n",
      "No. Observations:                     35952   AIC:                         3.164e+05\n",
      "Df Residuals:                         35950   BIC:                         3.164e+05\n",
      "Df Model:                                 1                                         \n",
      "Covariance Type:                  nonrobust                                         \n",
      "=====================================================================================\n",
      "                        coef    std err          t      P>|t|      [0.025      0.975]\n",
      "-------------------------------------------------------------------------------------\n",
      "Intercept            12.4865      0.423     29.523      0.000      11.658      13.316\n",
      "Fuel_Barrels_Year    26.2836      0.023   1128.967      0.000      26.238      26.329\n",
      "==============================================================================\n",
      "Omnibus:                    88540.411   Durbin-Watson:                   0.907\n",
      "Prob(Omnibus):                  0.000   Jarque-Bera (JB):        957228555.961\n",
      "Skew:                          26.696   Prob(JB):                         0.00\n",
      "Kurtosis:                     800.592   Cond. No.                         74.1\n",
      "==============================================================================\n",
      "\n",
      "Notes:\n",
      "[1] Standard Errors assume that the covariance matrix of the errors is correctly specified.\n",
      "\n",
      "\n",
      "Regression results for Combined_MPG:\n",
      "                               OLS Regression Results                               \n",
      "====================================================================================\n",
      "Dep. Variable:     CO2_Emissions_Grams_Mile   R-squared:                       0.858\n",
      "Model:                                  OLS   Adj. R-squared:                  0.858\n",
      "Method:                       Least Squares   F-statistic:                 2.170e+05\n",
      "Date:                      Sat, 13 Jul 2024   Prob (F-statistic):               0.00\n",
      "Time:                              13:52:42   Log-Likelihood:            -1.8778e+05\n",
      "No. Observations:                     35952   AIC:                         3.756e+05\n",
      "Df Residuals:                         35950   BIC:                         3.756e+05\n",
      "Df Model:                                 1                                         \n",
      "Covariance Type:                  nonrobust                                         \n",
      "================================================================================\n",
      "                   coef    std err          t      P>|t|      [0.025      0.975]\n",
      "--------------------------------------------------------------------------------\n",
      "Intercept      905.2031      0.953    950.221      0.000     903.336     907.070\n",
      "Combined_MPG   -21.5706      0.046   -465.877      0.000     -21.661     -21.480\n",
      "==============================================================================\n",
      "Omnibus:                    23856.426   Durbin-Watson:                   0.470\n",
      "Prob(Omnibus):                  0.000   Jarque-Bera (JB):           380865.584\n",
      "Skew:                           3.004   Prob(JB):                         0.00\n",
      "Kurtosis:                      17.770   Cond. No.                         83.0\n",
      "==============================================================================\n",
      "\n",
      "Notes:\n",
      "[1] Standard Errors assume that the covariance matrix of the errors is correctly specified.\n",
      "\n",
      "\n",
      "Regression results for Fuel_Cost_Year:\n",
      "                               OLS Regression Results                               \n",
      "====================================================================================\n",
      "Dep. Variable:     CO2_Emissions_Grams_Mile   R-squared:                       0.867\n",
      "Model:                                  OLS   Adj. R-squared:                  0.867\n",
      "Method:                       Least Squares   F-statistic:                 2.334e+05\n",
      "Date:                      Sat, 13 Jul 2024   Prob (F-statistic):               0.00\n",
      "Time:                              13:52:42   Log-Likelihood:            -1.8665e+05\n",
      "No. Observations:                     35952   AIC:                         3.733e+05\n",
      "Df Residuals:                         35950   BIC:                         3.733e+05\n",
      "Df Model:                                 1                                         \n",
      "Covariance Type:                  nonrobust                                         \n",
      "==================================================================================\n",
      "                     coef    std err          t      P>|t|      [0.025      0.975]\n",
      "----------------------------------------------------------------------------------\n",
      "Intercept         61.5631      0.887     69.430      0.000      59.825      63.301\n",
      "Fuel_Cost_Year     0.2186      0.000    483.072      0.000       0.218       0.220\n",
      "==============================================================================\n",
      "Omnibus:                     1566.464   Durbin-Watson:                   0.351\n",
      "Prob(Omnibus):                  0.000   Jarque-Bera (JB):             1323.699\n",
      "Skew:                          -0.399   Prob(JB):                    3.65e-288\n",
      "Kurtosis:                       2.502   Cond. No.                     7.57e+03\n",
      "==============================================================================\n",
      "\n",
      "Notes:\n",
      "[1] Standard Errors assume that the covariance matrix of the errors is correctly specified.\n",
      "[2] The condition number is large, 7.57e+03. This might indicate that there are\n",
      "strong multicollinearity or other numerical problems.\n"
     ]
    }
   ],
   "source": [
    "#Summary of our results:\n",
    "for feature in vehicles_no_object2.columns:\n",
    "    if feature != 'CO2_Emissions_Grams_Mile':\n",
    "        formula = f'CO2_Emissions_Grams_Mile ~ {feature}'\n",
    "        results = smf.ols(formula, data=vehicles_no_object2).fit()\n",
    "        print(f\"\\n\\nRegression results for {feature}:\")\n",
    "        print(results.summary())"
   ]
  },
  {
   "cell_type": "markdown",
   "metadata": {},
   "source": [
    "Imprime el resumen de tu regresión e interpreta los resultados. ¿Cuáles son las variables más importantes en tu modelo y por qué? ¿Qué conclusiones puedes sacar de tu modelo y qué tan confiado estás en estas conclusiones? Agrega tus respuestas como comentarios después de tu código.\n"
   ]
  },
  {
   "cell_type": "code",
   "execution_count": 90,
   "metadata": {},
   "outputs": [
    {
     "data": {
      "image/png": "[encoded data removed]",
      "text/plain": [
       "<Figure size 640x480 with 1 Axes>"
      ]
     },
     "metadata": {},
     "output_type": "display_data"
    }
   ],
   "source": [
    "# Your code here.\n",
    "np.abs(coefs).sort_values().plot(kind='bar', title='Coeficientes del Modelo (Valor Absoluto)')\n",
    "plt.xlabel('Características')\n",
    "plt.ylabel('Valor Absoluto del Coeficiente')\n",
    "plt.show()"
   ]
  },
  {
   "cell_type": "code",
   "execution_count": 126,
   "metadata": {},
   "outputs": [
    {
     "name": "stdout",
     "output_type": "stream",
     "text": [
      "\n",
      "Year\n"
     ]
    },
    {
     "ename": "InvalidIndexError",
     "evalue": "(slice(None, None, None), 0)",
     "output_type": "error",
     "traceback": [
      "\u001b[1;31m---------------------------------------------------------------------------\u001b[0m",
      "\u001b[1;31mKeyError\u001b[0m                                  Traceback (most recent call last)",
      "File \u001b[1;32mc:\\Users\\Aleja\\AppData\\Local\\Programs\\Python\\Python312\\Lib\\site-packages\\pandas\\core\\indexes\\base.py:3802\u001b[0m, in \u001b[0;36mIndex.get_loc\u001b[1;34m(self, key)\u001b[0m\n\u001b[0;32m   3801\u001b[0m \u001b[38;5;28;01mtry\u001b[39;00m:\n\u001b[1;32m-> 3802\u001b[0m     \u001b[38;5;28;01mreturn\u001b[39;00m \u001b[38;5;28;43mself\u001b[39;49m\u001b[38;5;241;43m.\u001b[39;49m\u001b[43m_engine\u001b[49m\u001b[38;5;241;43m.\u001b[39;49m\u001b[43mget_loc\u001b[49m\u001b[43m(\u001b[49m\u001b[43mcasted_key\u001b[49m\u001b[43m)\u001b[49m\n\u001b[0;32m   3803\u001b[0m \u001b[38;5;28;01mexcept\u001b[39;00m \u001b[38;5;167;01mKeyError\u001b[39;00m \u001b[38;5;28;01mas\u001b[39;00m err:\n",
      "File \u001b[1;32mindex.pyx:153\u001b[0m, in \u001b[0;36mpandas._libs.index.IndexEngine.get_loc\u001b[1;34m()\u001b[0m\n",
      "File \u001b[1;32mindex.pyx:182\u001b[0m, in \u001b[0;36mpandas._libs.index.IndexEngine.get_loc\u001b[1;34m()\u001b[0m\n",
      "File \u001b[1;32mpandas\\\\_libs\\\\hashtable_class_helper.pxi:7081\u001b[0m, in \u001b[0;36mpandas._libs.hashtable.PyObjectHashTable.get_item\u001b[1;34m()\u001b[0m\n",
      "File \u001b[1;32mpandas\\\\_libs\\\\hashtable_class_helper.pxi:7089\u001b[0m, in \u001b[0;36mpandas._libs.hashtable.PyObjectHashTable.get_item\u001b[1;34m()\u001b[0m\n",
      "\u001b[1;31mKeyError\u001b[0m: (slice(None, None, None), 0)",
      "\nDuring handling of the above exception, another exception occurred:\n",
      "\u001b[1;31mInvalidIndexError\u001b[0m                         Traceback (most recent call last)",
      "Cell \u001b[1;32mIn[126], line 4\u001b[0m\n\u001b[0;32m      2\u001b[0m \u001b[38;5;28mprint\u001b[39m()\n\u001b[0;32m      3\u001b[0m \u001b[38;5;28mprint\u001b[39m(feat)\n\u001b[1;32m----> 4\u001b[0m \u001b[38;5;28mprint\u001b[39m(\u001b[38;5;124m\"\u001b[39m\u001b[38;5;124mMáximo \u001b[39m\u001b[38;5;132;01m{}\u001b[39;00m\u001b[38;5;124m, mínimo \u001b[39m\u001b[38;5;132;01m{}\u001b[39;00m\u001b[38;5;124m, media \u001b[39m\u001b[38;5;132;01m{}\u001b[39;00m\u001b[38;5;124m y varianza \u001b[39m\u001b[38;5;132;01m{}\u001b[39;00m\u001b[38;5;124m\"\u001b[39m\u001b[38;5;241m.\u001b[39mformat(np\u001b[38;5;241m.\u001b[39mmax(\u001b[43mvehicles_no_object\u001b[49m\u001b[43m[\u001b[49m\u001b[43m:\u001b[49m\u001b[43m,\u001b[49m\u001b[43m \u001b[49m\u001b[43mi\u001b[49m\u001b[43m]\u001b[49m), np\u001b[38;5;241m.\u001b[39mmin(vehicles_no_object[:, i]), np\u001b[38;5;241m.\u001b[39mmean(vehicles_no_object[:, i]), np\u001b[38;5;241m.\u001b[39mvar(vehicles_no_object[:, i])))\n",
      "File \u001b[1;32mc:\\Users\\Aleja\\AppData\\Local\\Programs\\Python\\Python312\\Lib\\site-packages\\pandas\\core\\frame.py:4090\u001b[0m, in \u001b[0;36mDataFrame.__getitem__\u001b[1;34m(self, key)\u001b[0m\n\u001b[0;32m   4088\u001b[0m \u001b[38;5;28;01mif\u001b[39;00m \u001b[38;5;28mself\u001b[39m\u001b[38;5;241m.\u001b[39mcolumns\u001b[38;5;241m.\u001b[39mnlevels \u001b[38;5;241m>\u001b[39m \u001b[38;5;241m1\u001b[39m:\n\u001b[0;32m   4089\u001b[0m     \u001b[38;5;28;01mreturn\u001b[39;00m \u001b[38;5;28mself\u001b[39m\u001b[38;5;241m.\u001b[39m_getitem_multilevel(key)\n\u001b[1;32m-> 4090\u001b[0m indexer \u001b[38;5;241m=\u001b[39m \u001b[38;5;28;43mself\u001b[39;49m\u001b[38;5;241;43m.\u001b[39;49m\u001b[43mcolumns\u001b[49m\u001b[38;5;241;43m.\u001b[39;49m\u001b[43mget_loc\u001b[49m\u001b[43m(\u001b[49m\u001b[43mkey\u001b[49m\u001b[43m)\u001b[49m\n\u001b[0;32m   4091\u001b[0m \u001b[38;5;28;01mif\u001b[39;00m is_integer(indexer):\n\u001b[0;32m   4092\u001b[0m     indexer \u001b[38;5;241m=\u001b[39m [indexer]\n",
      "File \u001b[1;32mc:\\Users\\Aleja\\AppData\\Local\\Programs\\Python\\Python312\\Lib\\site-packages\\pandas\\core\\indexes\\base.py:3808\u001b[0m, in \u001b[0;36mIndex.get_loc\u001b[1;34m(self, key)\u001b[0m\n\u001b[0;32m   3803\u001b[0m \u001b[38;5;28;01mexcept\u001b[39;00m \u001b[38;5;167;01mKeyError\u001b[39;00m \u001b[38;5;28;01mas\u001b[39;00m err:\n\u001b[0;32m   3804\u001b[0m     \u001b[38;5;28;01mif\u001b[39;00m \u001b[38;5;28misinstance\u001b[39m(casted_key, \u001b[38;5;28mslice\u001b[39m) \u001b[38;5;129;01mor\u001b[39;00m (\n\u001b[0;32m   3805\u001b[0m         \u001b[38;5;28misinstance\u001b[39m(casted_key, abc\u001b[38;5;241m.\u001b[39mIterable)\n\u001b[0;32m   3806\u001b[0m         \u001b[38;5;129;01mand\u001b[39;00m \u001b[38;5;28many\u001b[39m(\u001b[38;5;28misinstance\u001b[39m(x, \u001b[38;5;28mslice\u001b[39m) \u001b[38;5;28;01mfor\u001b[39;00m x \u001b[38;5;129;01min\u001b[39;00m casted_key)\n\u001b[0;32m   3807\u001b[0m     ):\n\u001b[1;32m-> 3808\u001b[0m         \u001b[38;5;28;01mraise\u001b[39;00m InvalidIndexError(key)\n\u001b[0;32m   3809\u001b[0m     \u001b[38;5;28;01mraise\u001b[39;00m \u001b[38;5;167;01mKeyError\u001b[39;00m(key) \u001b[38;5;28;01mfrom\u001b[39;00m \u001b[38;5;21;01merr\u001b[39;00m\n\u001b[0;32m   3810\u001b[0m \u001b[38;5;28;01mexcept\u001b[39;00m \u001b[38;5;167;01mTypeError\u001b[39;00m:\n\u001b[0;32m   3811\u001b[0m     \u001b[38;5;66;03m# If we have a listlike key, _check_indexing_error will raise\u001b[39;00m\n\u001b[0;32m   3812\u001b[0m     \u001b[38;5;66;03m#  InvalidIndexError. Otherwise we fall through and re-raise\u001b[39;00m\n\u001b[0;32m   3813\u001b[0m     \u001b[38;5;66;03m#  the TypeError.\u001b[39;00m\n",
      "\u001b[1;31mInvalidIndexError\u001b[0m: (slice(None, None, None), 0)"
     ]
    }
   ],
   "source": [
    "for i, feat in enumerate(features):\n",
    "    print()\n",
    "    print(feat)\n",
    "    print(\"Máximo {}, mínimo {}, media {} y varianza {}\".format(np.max(vehicles_no_object[:, i]), np.min(vehicles_no_object[:, i]), np.mean(vehicles_no_object[:, i]), np.var(vehicles_no_object[:, i])))"
   ]
  },
  {
   "cell_type": "markdown",
   "metadata": {},
   "source": [
    "## Desafío Extra: Análisis de Errores\n",
    "\n",
    "Estoy sospechando de las últimas fiestas que he organizado: parece que cuanto más gente invito, más personas no pueden asistir. Para saber si mi presentimiento está respaldado por los datos, he decidido hacer un análisis. He recopilado mis datos en la tabla a continuación, donde X es el número de personas que invité, y Y es el número de personas que asistieron.\n",
    "\n",
    "| X   | Y   |\n",
    "| --- | --- |\n",
    "| 1   | 1   |\n",
    "| 3   | 2   |\n",
    "| 4   | 4   |\n",
    "| 6   | 4   |\n",
    "| 8   | 5   |\n",
    "| 9   | 7   |\n",
    "| 11  | 8   |\n",
    "| 14  | 13  |\n",
    "\n",
    "Queremos saber si la relación modelada por las dos variables aleatorias es lineal o no, y por lo tanto, si es apropiado modelarla con una regresión lineal.\n",
    "Primero, construye un dataframe con los datos.\n"
   ]
  },
  {
   "cell_type": "code",
   "execution_count": null,
   "metadata": {},
   "outputs": [],
   "source": [
    "# Your code here."
   ]
  },
  {
   "cell_type": "markdown",
   "metadata": {},
   "source": [
    "Dibuja un diagrama de dispersión (scatter plot) para los datos y ajusta una línea de regresión.\n"
   ]
  },
  {
   "cell_type": "code",
   "execution_count": null,
   "metadata": {},
   "outputs": [],
   "source": [
    "# Your code here."
   ]
  },
  {
   "cell_type": "markdown",
   "metadata": {},
   "source": [
    "¿Qué ves? ¿Qué te indica este gráfico sobre la probable relación entre las variables? Imprime los resultados de tu regresión.\n"
   ]
  },
  {
   "cell_type": "markdown",
   "metadata": {},
   "source": [
    "_tu explicación aquí_\n"
   ]
  },
  {
   "cell_type": "markdown",
   "metadata": {},
   "source": [
    "¿Ves algún punto problemático o valores atípicos en tus datos? Elimina estos puntos y recalcula tu regresión. Imprime el nuevo diagrama de dispersión con tu nuevo modelo y los resultados de tu modelo.\n"
   ]
  },
  {
   "cell_type": "code",
   "execution_count": null,
   "metadata": {},
   "outputs": [],
   "source": [
    "# Your response here."
   ]
  },
  {
   "cell_type": "markdown",
   "metadata": {},
   "source": [
    "¿Qué cambió? Basado en los resultados de los dos modelos y tus gráficos, ¿qué puedes decir sobre la forma de los datos con el punto problemático y sin él?\n"
   ]
  },
  {
   "cell_type": "markdown",
   "metadata": {},
   "source": [
    "_tu explicación aquí_\n"
   ]
  }
 ],
 "metadata": {
  "kernelspec": {
   "display_name": "Python 3 (ipykernel)",
   "language": "python",
   "name": "python3"
  },
  "language_info": {
   "codemirror_mode": {
    "name": "ipython",
    "version": 3
   },
   "file_extension": ".py",
   "mimetype": "text/x-python",
   "name": "python",
   "nbconvert_exporter": "python",
   "pygments_lexer": "ipython3",
   "version": "3.12.2"
  }
 },
 "nbformat": 4,
 "nbformat_minor": 2
}
